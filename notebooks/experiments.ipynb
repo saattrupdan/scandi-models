{
 "cells": [
  {
   "cell_type": "code",
   "execution_count": 1,
   "id": "c8632062-232f-4f85-9ee3-a0d228fb2346",
   "metadata": {},
   "outputs": [],
   "source": [
    "%reload_ext autoreload\n",
    "%autoreload 2"
   ]
  },
  {
   "cell_type": "code",
   "execution_count": 2,
   "id": "698b61f4-cae0-4a06-b76c-64e8a0914583",
   "metadata": {},
   "outputs": [],
   "source": [
    "# Set up root directory to PATH\n",
    "import sys\n",
    "from pathlib import Path\n",
    "root_path = str(Path.cwd().parent)\n",
    "if root_path not in sys.path:\n",
    "    sys.path.append(root_path)\n",
    "\n",
    "# Import external libraries\n",
    "from scandeval import load_dataset\n",
    "import pandas as pd\n",
    "\n",
    "# Import local scripts\n",
    "from src import get_ner_trainer"
   ]
  },
  {
   "cell_type": "markdown",
   "id": "7b398267-e68e-4c96-bf82-c29b78748a1e",
   "metadata": {},
   "source": [
    "## Load datasets and model"
   ]
  },
  {
   "cell_type": "code",
   "execution_count": 3,
   "id": "95bde73c-10cd-4b3c-a154-0a3fbe39d1f6",
   "metadata": {},
   "outputs": [],
   "source": [
    "dataset_names = ['dane', 'norne-nb', 'norne-nn', 'suc3', 'wikiann-is', 'wikiann-fo']\n",
    "all_datasets = {name: pd.concat((load_dataset(name)[0], \n",
    "                                 load_dataset(name)[2]), axis=1) \n",
    "                for name in dataset_names}"
   ]
  },
  {
   "cell_type": "markdown",
   "id": "f2692557-d9ff-4398-a4d5-f20ad7d988f1",
   "metadata": {},
   "source": [
    "## Concatenating all the datasets"
   ]
  },
  {
   "cell_type": "code",
   "execution_count": 4,
   "id": "98aa4e02-3394-44e3-bfe0-1a21834d39c7",
   "metadata": {},
   "outputs": [
    {
     "name": "stdout",
     "output_type": "stream",
     "text": [
      "There are 100,151 documents in the dataset.\n"
     ]
    },
    {
     "data": {
      "text/html": [
       "<div>\n",
       "<style scoped>\n",
       "    .dataframe tbody tr th:only-of-type {\n",
       "        vertical-align: middle;\n",
       "    }\n",
       "\n",
       "    .dataframe tbody tr th {\n",
       "        vertical-align: top;\n",
       "    }\n",
       "\n",
       "    .dataframe thead th {\n",
       "        text-align: right;\n",
       "    }\n",
       "</style>\n",
       "<table border=\"1\" class=\"dataframe\">\n",
       "  <thead>\n",
       "    <tr style=\"text-align: right;\">\n",
       "      <th></th>\n",
       "      <th>doc</th>\n",
       "      <th>tokens</th>\n",
       "      <th>ner_tags</th>\n",
       "    </tr>\n",
       "  </thead>\n",
       "  <tbody>\n",
       "    <tr>\n",
       "      <th>0</th>\n",
       "      <td>På fredag har SID inviteret til reception i SI...</td>\n",
       "      <td>[På, fredag, har, SID, inviteret, til, recepti...</td>\n",
       "      <td>[O, O, O, B-ORG, O, O, O, O, B-LOC, O, O, O, O...</td>\n",
       "    </tr>\n",
       "    <tr>\n",
       "      <th>1</th>\n",
       "      <td>Eller slet og ret tykke og fede i mere eller m...</td>\n",
       "      <td>[Eller, slet, og, ret, tykke, og, fede, i, mer...</td>\n",
       "      <td>[O, O, O, O, O, O, O, O, O, O, O, O, O, O, O, ...</td>\n",
       "    </tr>\n",
       "    <tr>\n",
       "      <th>2</th>\n",
       "      <td>Under rejser og ophold i udlandet følger sygep...</td>\n",
       "      <td>[Under, rejser, og, ophold, i, udlandet, følge...</td>\n",
       "      <td>[O, O, O, O, O, O, O, O, O, O, O, O]</td>\n",
       "    </tr>\n",
       "    <tr>\n",
       "      <th>3</th>\n",
       "      <td>Hele det smukt restaurerede hus vrimler med bø...</td>\n",
       "      <td>[Hele, det, smukt, restaurerede, hus, vrimler,...</td>\n",
       "      <td>[O, O, O, O, O, O, O, O, O, B-PER, I-PER, O, O...</td>\n",
       "    </tr>\n",
       "    <tr>\n",
       "      <th>4</th>\n",
       "      <td>Hun er selv på femte år lykkeligt gift med sin...</td>\n",
       "      <td>[Hun, er, selv, på, femte, år, lykkeligt, gift...</td>\n",
       "      <td>[O, O, O, O, O, O, O, O, O, O, B-MISC, O, O, B...</td>\n",
       "    </tr>\n",
       "  </tbody>\n",
       "</table>\n",
       "</div>"
      ],
      "text/plain": [
       "                                                 doc  \\\n",
       "0  På fredag har SID inviteret til reception i SI...   \n",
       "1  Eller slet og ret tykke og fede i mere eller m...   \n",
       "2  Under rejser og ophold i udlandet følger sygep...   \n",
       "3  Hele det smukt restaurerede hus vrimler med bø...   \n",
       "4  Hun er selv på femte år lykkeligt gift med sin...   \n",
       "\n",
       "                                              tokens  \\\n",
       "0  [På, fredag, har, SID, inviteret, til, recepti...   \n",
       "1  [Eller, slet, og, ret, tykke, og, fede, i, mer...   \n",
       "2  [Under, rejser, og, ophold, i, udlandet, følge...   \n",
       "3  [Hele, det, smukt, restaurerede, hus, vrimler,...   \n",
       "4  [Hun, er, selv, på, femte, år, lykkeligt, gift...   \n",
       "\n",
       "                                            ner_tags  \n",
       "0  [O, O, O, B-ORG, O, O, O, O, B-LOC, O, O, O, O...  \n",
       "1  [O, O, O, O, O, O, O, O, O, O, O, O, O, O, O, ...  \n",
       "2               [O, O, O, O, O, O, O, O, O, O, O, O]  \n",
       "3  [O, O, O, O, O, O, O, O, O, B-PER, I-PER, O, O...  \n",
       "4  [O, O, O, O, O, O, O, O, O, O, B-MISC, O, O, B...  "
      ]
     },
     "execution_count": 4,
     "metadata": {},
     "output_type": "execute_result"
    }
   ],
   "source": [
    "fully_concatenated = (pd.concat(all_datasets.values(), axis=0)\n",
    "                        .reset_index(drop=True))\n",
    "print(f'There are {len(fully_concatenated):,} documents in the dataset.')\n",
    "fully_concatenated.head()"
   ]
  },
  {
   "cell_type": "code",
   "execution_count": 7,
   "id": "192ca749-bba8-4d77-bc86-57af7923b0cc",
   "metadata": {},
   "outputs": [
    {
     "name": "stderr",
     "output_type": "stream",
     "text": [
      "\u001b[32m2021-09-17 20:02:11,010 [INFO] <src.trainer>\n",
      "↳ \u001b[0m\u001b[33mLoading model\u001b[0m\n",
      "\u001b[32m2021-09-17 20:02:18,297 [INFO] <src.trainer>\n",
      "↳ \u001b[0m\u001b[33mConverting dataframe to HuggingFace dataset\u001b[0m\n",
      "\u001b[32m2021-09-17 20:02:18,518 [INFO] <src.trainer>\n",
      "↳ \u001b[0m\u001b[33mTokenising and aligning dataset\u001b[0m\n",
      "\u001b[32m2021-09-17 20:02:46,606 [INFO] <src.trainer>\n",
      "↳ \u001b[0m\u001b[33mInitialising Trainer object\u001b[0m\n"
     ]
    }
   ],
   "source": [
    "trainer, val = get_ner_trainer(model_id='NbAiLab/nb-bert-base',\n",
    "                               df=fully_concatenated)"
   ]
  },
  {
   "cell_type": "code",
   "execution_count": null,
   "id": "aff03453-c72b-4de3-8ec1-c88ebd97f021",
   "metadata": {
    "tags": []
   },
   "outputs": [],
   "source": [
    "trainer.train()"
   ]
  },
  {
   "cell_type": "code",
   "execution_count": null,
   "id": "2b70b4b1-08a9-478f-b864-3b48751ec3c8",
   "metadata": {
    "tags": []
   },
   "outputs": [],
   "source": [
    "trainer.evaluate(val)"
   ]
  },
  {
   "cell_type": "markdown",
   "id": "7c0a9b8d-227e-499d-a54f-5954b42add8e",
   "metadata": {},
   "source": [
    "## Ensuring equal language contribution"
   ]
  },
  {
   "cell_type": "code",
   "execution_count": null,
   "id": "a714cdab-b001-4783-a8f1-7c539be361f5",
   "metadata": {},
   "outputs": [],
   "source": [
    "min_length = min(len(df) for df in dataset_dict.values())\n",
    "subsampled = (pd.concat([df.sample(min_length) \n",
    "                        for df in datasets.values()], axis=0)\n",
    "                .reset_index(drop=True))\n",
    "print(f'There are {len(subsampled):,} documents in the dataset.')\n",
    "subsampled.head()"
   ]
  },
  {
   "cell_type": "code",
   "execution_count": null,
   "id": "4a18c280-a451-489f-9a52-26aabddc3ddc",
   "metadata": {},
   "outputs": [],
   "source": [
    "trainer, val = get_ner_trainer(model_id='NbAiLab/nb-bert-base',\n",
    "                               df=subsampled)"
   ]
  },
  {
   "cell_type": "code",
   "execution_count": null,
   "id": "8951568e-3b00-4d7a-b711-b295d1b92a54",
   "metadata": {
    "tags": []
   },
   "outputs": [],
   "source": [
    "trainer.train()"
   ]
  },
  {
   "cell_type": "code",
   "execution_count": null,
   "id": "98ea2dcb-da46-49f3-8265-69fd68f4ae8c",
   "metadata": {
    "tags": []
   },
   "outputs": [],
   "source": [
    "trainer.evaluate(val)"
   ]
  }
 ],
 "metadata": {
  "kernelspec": {
   "display_name": "Python 3 (ipykernel)",
   "language": "python",
   "name": "python3"
  },
  "language_info": {
   "codemirror_mode": {
    "name": "ipython",
    "version": 3
   },
   "file_extension": ".py",
   "mimetype": "text/x-python",
   "name": "python",
   "nbconvert_exporter": "python",
   "pygments_lexer": "ipython3",
   "version": "3.8.3"
  }
 },
 "nbformat": 4,
 "nbformat_minor": 5
}
